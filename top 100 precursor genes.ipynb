{
 "cells": [
  {
   "cell_type": "code",
   "execution_count": null,
   "metadata": {},
   "outputs": [],
   "source": [
    "import numpy as np\n",
    "import pandas as pd\n",
    "import scanpy as sc\n",
    "import matplotlib.pyplot as plt\n",
    "import seaborn as sns\n",
    "import loompy\n",
    "import anndata\n",
    "\n",
    "sc.settings.verbosity = 3             # verbosity: errors (0), warnings (1), info (2), hints (3)\n",
    "sc.logging.print_header()\n",
    "sc.settings.set_figure_params(dpi=80, facecolor='white')\n",
    "adata = sc.read_loom('mese_data_Yike.loom', X_name='spliced', obs_names='cellID', var_names='GeneName', dtype='float32')\n",
    "adata.obs_names_make_unique() \n",
    "adata"
   ]
  },
  {
   "cell_type": "code",
   "execution_count": null,
   "metadata": {},
   "outputs": [],
   "source": [
    "cells_subtypes1=adata.obs['cellSubtype'].isin(['Alveolar fibroblast','Fibroblast precursor','Adventitial fibroblast'])\n",
    "adata_subtypes1=adata[cells_subtypes1]\n",
    "adata_subtypes1 # 仅包括'Alveolar fibroblast','Fibroblast precursor','Adventitial fibroblast'的数据"
   ]
  },
  {
   "cell_type": "code",
   "execution_count": null,
   "metadata": {},
   "outputs": [],
   "source": [
    "sc.tl.rank_genes_groups(adata_subtypes1, 'cellSubtype', method='wilcoxon')\n",
    "sc.pl.rank_genes_groups(adata_subtypes1, n_genes=25, sharey=False)"
   ]
  },
  {
   "cell_type": "code",
   "execution_count": null,
   "metadata": {},
   "outputs": [],
   "source": [
    "A=adata_subtypes1.uns['rank_genes_groups']['names'][:100] #.to_excel('a.xlsx')\n",
    "data = pd.DataFrame(A)\n",
    "data.to_excel('excels/rank_genes_group_precursors&adventitial_and_alveolar.xlsx')"
   ]
  }
 ],
 "metadata": {
  "kernelspec": {
   "display_name": "Python 3 (ipykernel)",
   "language": "python",
   "name": "python3"
  },
  "language_info": {
   "codemirror_mode": {
    "name": "ipython",
    "version": 3
   },
   "file_extension": ".py",
   "mimetype": "text/x-python",
   "name": "python",
   "nbconvert_exporter": "python",
   "pygments_lexer": "ipython3",
   "version": "3.8.5"
  }
 },
 "nbformat": 4,
 "nbformat_minor": 4
}
